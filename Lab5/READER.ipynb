{
 "cells": [
  {
   "cell_type": "code",
   "execution_count": null,
   "metadata": {},
   "outputs": [],
   "source": [
    "import torch\n",
    "\n",
    "from transformers import AutoTokenizer, AutoModelForQuestionAnswering\n",
    "\n",
    "tokenizer = AutoTokenizer.from_pretrained(\"AlexKay/xlm-roberta-large-qa-multilingual-finedtuned-ru\")\n",
    "model = AutoModelForQuestionAnswering.from_pretrained(\"AlexKay/xlm-roberta-large-qa-multilingual-finedtuned-ru\")"
   ]
  },
  {
   "cell_type": "code",
   "execution_count": null,
   "metadata": {},
   "outputs": [],
   "source": [
    "question = '''Какое количество жителей Ирана владеют персидским языком?'''\n",
    "\n",
    "paragraph = '''До 1935 г. на Западе Иран назывался Персией , однако в \n",
    "самом Иране это название фактически было неизвестно, и его эквивалент \n",
    "Фарс означал лишь одну из областей страны. Население Ирана, основную \n",
    "часть которого составляли персоязычные, называло чаще всего себя\n",
    "по названию областей (خراسانی хорасанец , اصفاهانی исфаханец \n",
    "и т. д.). С началом правления династии Пехлеви (1925 г.) \n",
    "благодаря популяризации древнего имени страны Иран этноним\n",
    "ایرانی [irɒːni] (разг. ایرونی [iruni]) иранец стал основным \n",
    "национальным самоопределением персоязычных иранцев, хотя он \n",
    "не может дифференцировать их от других ираноязычных и\n",
    "неираноязычных народов Ирана. Если необходимо данное уточнение, \n",
    "обычно используют термин فارسی\\u200cزبان [fɒːrsi-zæbɒːn]\n",
    "персоязычный , подразумевая, что персидский язык, которым \n",
    "владеют более 90 % населения Ирана, является родным,\n",
    "в отличие от тех, для кого этот язык второй и кто дома\n",
    "разговаривает на другом иранском или неиранском языке. \n",
    "Учитывая широкие ассимиляционные процессы в Иране, \n",
    "следует выделить также третью промежуточную группу: \n",
    "лица, для которых персидский язык стал первым и родным,\n",
    "но которые помнят о своих неперсидских корнях или продолжают \n",
    "относить себя к другому этносу (азербайджанцы, арабы, мазендеранцы и т. д.).'''\n",
    "\n",
    "encoding = tokenizer.encode_plus(text=question,text_pair=paragraph)"
   ]
  },
  {
   "cell_type": "code",
   "execution_count": 7,
   "metadata": {},
   "outputs": [],
   "source": [
    "inputs = encoding['input_ids']\n",
    "tokens = tokenizer.convert_ids_to_tokens(inputs)"
   ]
  },
  {
   "cell_type": "code",
   "execution_count": null,
   "metadata": {},
   "outputs": [],
   "source": [
    "output = model(input_ids=torch.tensor([inputs]))\n",
    "output"
   ]
  },
  {
   "cell_type": "code",
   "execution_count": null,
   "metadata": {},
   "outputs": [],
   "source": [
    "start_index = torch.argmax(output[0])\n",
    "end_index = torch.argmax(output[1])\n",
    "answer = ' '.join(tokens[start_index:end_index+1])"
   ]
  },
  {
   "cell_type": "code",
   "execution_count": null,
   "metadata": {},
   "outputs": [
    {
     "data": {
      "text/plain": [
       "tensor(241)"
      ]
     },
     "execution_count": 19,
     "metadata": {},
     "output_type": "execute_result"
    }
   ],
   "source": [
    "print(start_index, end_index)\n",
    "answer"
   ]
  },
  {
   "cell_type": "code",
   "execution_count": null,
   "metadata": {},
   "outputs": [
    {
     "name": "stdout",
     "output_type": "stream",
     "text": [
      "▁более\n",
      "▁90\n",
      "▁%\n"
     ]
    }
   ],
   "source": [
    "corrected_answer = ''\n",
    "\n",
    "for word in answer.split(\" \"):\n",
    "    \n",
    "    #If it's a subword token\n",
    "    if word[:1] == \"▁\":\n",
    "        print(word)\n",
    "        corrected_answer += ' ' + word[1:]\n",
    "    else:\n",
    "        corrected_answer += word"
   ]
  },
  {
   "cell_type": "code",
   "execution_count": null,
   "metadata": {},
   "outputs": [
    {
     "data": {
      "text/plain": [
       "' более 90 %'"
      ]
     },
     "execution_count": 23,
     "metadata": {},
     "output_type": "execute_result"
    }
   ],
   "source": [
    "corrected_answer[1:]"
   ]
  }
 ],
 "metadata": {
  "kernelspec": {
   "display_name": "Python 3",
   "language": "python",
   "name": "python3"
  },
  "language_info": {
   "codemirror_mode": {
    "name": "ipython",
    "version": 3
   },
   "file_extension": ".py",
   "mimetype": "text/x-python",
   "name": "python",
   "nbconvert_exporter": "python",
   "pygments_lexer": "ipython3",
   "version": "3.10.13"
  }
 },
 "nbformat": 4,
 "nbformat_minor": 5
}
