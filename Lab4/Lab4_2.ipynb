{
 "cells": [
  {
   "cell_type": "code",
   "execution_count": 6,
   "metadata": {},
   "outputs": [
    {
     "name": "stderr",
     "output_type": "stream",
     "text": [
      "[nltk_data] Downloading package punkt to /root/nltk_data...\n",
      "[nltk_data]   Package punkt is already up-to-date!\n"
     ]
    },
    {
     "data": {
      "text/plain": [
       "True"
      ]
     },
     "execution_count": 6,
     "metadata": {},
     "output_type": "execute_result"
    }
   ],
   "source": [
    "import nltk\n",
    "nltk.download('punkt')"
   ]
  },
  {
   "cell_type": "code",
   "execution_count": 7,
   "metadata": {},
   "outputs": [],
   "source": [
    "from datasets import load_dataset, load_metric\n",
    "from transformers import (\n",
    "    DataCollatorForSeq2Seq,\n",
    "    MT5ForConditionalGeneration,\n",
    "    MT5Tokenizer,\n",
    "    pipeline,\n",
    "    Seq2SeqTrainingArguments,\n",
    "    Seq2SeqTrainer,\n",
    ") \n",
    "import evaluate\n",
    "import numpy as np\n",
    "import datasets\n",
    "\n",
    "cache_dir = '/usr/src/app/!datasets/'"
   ]
  },
  {
   "cell_type": "code",
   "execution_count": 8,
   "metadata": {},
   "outputs": [
    {
     "name": "stderr",
     "output_type": "stream",
     "text": [
      "You are using the default legacy behaviour of the <class 'transformers.models.t5.tokenization_t5.T5Tokenizer'>. This is expected, and simply means that the `legacy` (previous) behavior will be used so nothing changes for you. If you want to use the new behaviour, set `legacy=False`. This should only be set if you understand what it means, and thouroughly read the reason why this was added as explained in https://github.com/huggingface/transformers/pull/24565\n"
     ]
    }
   ],
   "source": [
    "tokenizer = MT5Tokenizer.from_pretrained(\"google/mt5-small\", cache_dir=cache_dir)  # cointegrated/rut5-small google/mt5-small\n",
    "model = MT5ForConditionalGeneration.from_pretrained('google/mt5-small', cache_dir=cache_dir)\n",
    "\n",
    "# tokenizer = MT5Tokenizer.from_pretrained(\"results/checkpoint-121500\")  # это если мы хотим подгрузить веса модели которую уже обучали\n",
    "# model = MT5ForConditionalGeneration.from_pretrained('results/checkpoint-121500')"
   ]
  },
  {
   "cell_type": "code",
   "execution_count": 9,
   "metadata": {},
   "outputs": [],
   "source": [
    "max_target_tokens_count = 128\n",
    "max_source_tokens_count = 1024\n",
    "\n",
    "\n",
    "def preprocess_function(examples):\n",
    "    inputs = examples[\"text\"]\n",
    "    model_inputs = tokenizer(inputs, max_length=max_source_tokens_count, truncation=True)\n",
    "\n",
    "    labels = tokenizer(text_target=examples[\"summary\"], max_length=max_target_tokens_count, truncation=True)\n",
    "\n",
    "    model_inputs[\"labels\"] = labels[\"input_ids\"]\n",
    "    \n",
    "    return model_inputs"
   ]
  },
  {
   "cell_type": "code",
   "execution_count": 10,
   "metadata": {},
   "outputs": [],
   "source": [
    "dataset = load_dataset('IlyaGusev/gazeta',revision=\"v2.0\", cache_dir=cache_dir)\n",
    "tokenized_dataset = dataset.map(preprocess_function, batched=True)"
   ]
  },
  {
   "cell_type": "code",
   "execution_count": 11,
   "metadata": {},
   "outputs": [],
   "source": [
    "data_collator = DataCollatorForSeq2Seq(tokenizer=tokenizer, model=model)"
   ]
  },
  {
   "cell_type": "code",
   "execution_count": 12,
   "metadata": {},
   "outputs": [
    {
     "name": "stderr",
     "output_type": "stream",
     "text": [
      "/tmp/ipykernel_81215/3050299009.py:1: FutureWarning: load_metric is deprecated and will be removed in the next major version of datasets. Use 'evaluate.load' instead, from the new library 🤗 Evaluate: https://huggingface.co/docs/evaluate\n",
      "  rouge = load_metric(\"rouge\")\n"
     ]
    }
   ],
   "source": [
    "rouge = load_metric(\"rouge\")\n",
    "bleu = evaluate.load(\"bleu\")"
   ]
  },
  {
   "cell_type": "code",
   "execution_count": 13,
   "metadata": {},
   "outputs": [],
   "source": [
    "def compute_metrics(eval_pred):\n",
    "    predictions, labels = eval_pred\n",
    "    # Replace -100 in the labels as we can't decode them.\n",
    "    labels = np.where(labels != -100, labels, tokenizer.pad_token_id)\n",
    "    predictions = np.where(predictions != -100, predictions, tokenizer.pad_token_id)\n",
    "    decoded_labels = tokenizer.batch_decode(labels, skip_special_tokens=True)\n",
    "    decoded_preds = tokenizer.batch_decode(predictions, skip_special_tokens=True)\n",
    "    # Rouge expects a newline after each sentence\n",
    "    decoded_preds = [\"\\n\".join(nltk.sent_tokenize(pred.strip())) for pred in decoded_preds]\n",
    "    decoded_labels = [\"\\n\".join(nltk.sent_tokenize(label.strip())) for label in decoded_labels]\n",
    "    \n",
    "    result = {}\n",
    "    result_rouge = rouge.compute(predictions=decoded_preds, references=decoded_labels)\n",
    "    # Extract a few results\n",
    "    result.update({key: value.mid.fmeasure * 100 for key, value in result_rouge.items()})\n",
    "    \n",
    "    result_bleu = bleu.compute(predictions=decoded_preds, references=decoded_labels)\n",
    "    # Extract a few results\n",
    "    result[\"bleu\"] = result_bleu[\"bleu\"] * 100\n",
    "    \n",
    "    # Add mean generated length\n",
    "    prediction_lens = [np.count_nonzero(pred != tokenizer.pad_token_id) for pred in predictions]\n",
    "    result[\"gen_len\"] = np.mean(prediction_lens)\n",
    "    result[\"char_len\"] = np.mean([len(t) for t in decoded_preds])\n",
    "    \n",
    "    return {k: round(v, 4) for k, v in result.items()}"
   ]
  },
  {
   "cell_type": "code",
   "execution_count": 14,
   "metadata": {},
   "outputs": [],
   "source": [
    "training_args = Seq2SeqTrainingArguments(\n",
    "    output_dir=\"/results\",\n",
    "    evaluation_strategy=\"steps\",\n",
    "    eval_steps=25,\n",
    "    logging_steps=25,\n",
    "    learning_rate=4e-4,\n",
    "    per_device_train_batch_size=4,\n",
    "    per_device_eval_batch_size=4,\n",
    "    gradient_accumulation_steps=64,\n",
    "    weight_decay=0.01,\n",
    "    save_total_limit=3,\n",
    "    num_train_epochs=1,\n",
    "    fp16=False,\n",
    "    predict_with_generate=True,\n",
    "    generation_max_length=max_target_tokens_count,\n",
    "    generation_num_beams=5\n",
    ")"
   ]
  },
  {
   "cell_type": "code",
   "execution_count": 15,
   "metadata": {},
   "outputs": [
    {
     "name": "stderr",
     "output_type": "stream",
     "text": [
      "Detected kernel version 4.15.0, which is below the recommended minimum of 5.5.0; this can cause the process to hang. It is recommended to upgrade the kernel to the minimum version or higher.\n"
     ]
    }
   ],
   "source": [
    "trainer = Seq2SeqTrainer(\n",
    "    model=model,\n",
    "    args=training_args,\n",
    "    train_dataset=tokenized_dataset[\"train\"],\n",
    "    eval_dataset=tokenized_dataset[\"test\"],\n",
    "    tokenizer=tokenizer,\n",
    "    data_collator=data_collator,\n",
    "    compute_metrics=compute_metrics\n",
    ")"
   ]
  },
  {
   "cell_type": "code",
   "execution_count": 16,
   "metadata": {},
   "outputs": [
    {
     "data": {
      "text/html": [
       "\n",
       "    <div>\n",
       "      \n",
       "      <progress value='238' max='238' style='width:300px; height:20px; vertical-align: middle;'></progress>\n",
       "      [238/238 8:18:26, Epoch 0/1]\n",
       "    </div>\n",
       "    <table border=\"1\" class=\"dataframe\">\n",
       "  <thead>\n",
       " <tr style=\"text-align: left;\">\n",
       "      <th>Step</th>\n",
       "      <th>Training Loss</th>\n",
       "      <th>Validation Loss</th>\n",
       "      <th>Rouge1</th>\n",
       "      <th>Rouge2</th>\n",
       "      <th>Rougel</th>\n",
       "      <th>Rougelsum</th>\n",
       "      <th>Bleu</th>\n",
       "      <th>Gen Len</th>\n",
       "      <th>Char Len</th>\n",
       "    </tr>\n",
       "  </thead>\n",
       "  <tbody>\n",
       "    <tr>\n",
       "      <td>25</td>\n",
       "      <td>7.156900</td>\n",
       "      <td>2.811180</td>\n",
       "      <td>5.630500</td>\n",
       "      <td>1.671800</td>\n",
       "      <td>5.543300</td>\n",
       "      <td>5.575800</td>\n",
       "      <td>1.143100</td>\n",
       "      <td>29.991900</td>\n",
       "      <td>106.592500</td>\n",
       "    </tr>\n",
       "    <tr>\n",
       "      <td>50</td>\n",
       "      <td>3.696000</td>\n",
       "      <td>2.621763</td>\n",
       "      <td>8.652200</td>\n",
       "      <td>2.687200</td>\n",
       "      <td>8.391600</td>\n",
       "      <td>8.478000</td>\n",
       "      <td>2.808400</td>\n",
       "      <td>40.107500</td>\n",
       "      <td>147.060400</td>\n",
       "    </tr>\n",
       "    <tr>\n",
       "      <td>75</td>\n",
       "      <td>3.349400</td>\n",
       "      <td>2.514841</td>\n",
       "      <td>12.210100</td>\n",
       "      <td>3.965100</td>\n",
       "      <td>11.899100</td>\n",
       "      <td>12.000700</td>\n",
       "      <td>3.762600</td>\n",
       "      <td>52.621200</td>\n",
       "      <td>187.154700</td>\n",
       "    </tr>\n",
       "    <tr>\n",
       "      <td>100</td>\n",
       "      <td>3.185000</td>\n",
       "      <td>2.487571</td>\n",
       "      <td>14.708800</td>\n",
       "      <td>4.783800</td>\n",
       "      <td>14.365300</td>\n",
       "      <td>14.458700</td>\n",
       "      <td>5.036500</td>\n",
       "      <td>72.690100</td>\n",
       "      <td>252.838200</td>\n",
       "    </tr>\n",
       "    <tr>\n",
       "      <td>125</td>\n",
       "      <td>3.113000</td>\n",
       "      <td>2.439365</td>\n",
       "      <td>15.327800</td>\n",
       "      <td>4.960100</td>\n",
       "      <td>15.013700</td>\n",
       "      <td>15.097800</td>\n",
       "      <td>5.469700</td>\n",
       "      <td>79.246000</td>\n",
       "      <td>275.204800</td>\n",
       "    </tr>\n",
       "    <tr>\n",
       "      <td>150</td>\n",
       "      <td>3.046100</td>\n",
       "      <td>2.420113</td>\n",
       "      <td>15.659900</td>\n",
       "      <td>5.069700</td>\n",
       "      <td>15.349300</td>\n",
       "      <td>15.445000</td>\n",
       "      <td>5.895900</td>\n",
       "      <td>84.562300</td>\n",
       "      <td>294.686700</td>\n",
       "    </tr>\n",
       "    <tr>\n",
       "      <td>175</td>\n",
       "      <td>3.011000</td>\n",
       "      <td>2.401659</td>\n",
       "      <td>15.431100</td>\n",
       "      <td>5.008100</td>\n",
       "      <td>15.107700</td>\n",
       "      <td>15.199500</td>\n",
       "      <td>6.079500</td>\n",
       "      <td>88.018100</td>\n",
       "      <td>306.964400</td>\n",
       "    </tr>\n",
       "    <tr>\n",
       "      <td>200</td>\n",
       "      <td>2.992800</td>\n",
       "      <td>2.397269</td>\n",
       "      <td>15.735700</td>\n",
       "      <td>5.036900</td>\n",
       "      <td>15.421800</td>\n",
       "      <td>15.501900</td>\n",
       "      <td>6.159100</td>\n",
       "      <td>86.419800</td>\n",
       "      <td>300.996800</td>\n",
       "    </tr>\n",
       "    <tr>\n",
       "      <td>225</td>\n",
       "      <td>2.975600</td>\n",
       "      <td>2.397243</td>\n",
       "      <td>15.980700</td>\n",
       "      <td>5.200700</td>\n",
       "      <td>15.634800</td>\n",
       "      <td>15.720700</td>\n",
       "      <td>6.159700</td>\n",
       "      <td>86.178600</td>\n",
       "      <td>299.920400</td>\n",
       "    </tr>\n",
       "  </tbody>\n",
       "</table><p>"
      ],
      "text/plain": [
       "<IPython.core.display.HTML object>"
      ]
     },
     "metadata": {},
     "output_type": "display_data"
    },
    {
     "data": {
      "text/plain": [
       "TrainOutput(global_step=238, training_loss=3.5793695690251197, metrics={'train_runtime': 29918.0259, 'train_samples_per_second': 2.038, 'train_steps_per_second': 0.008, 'total_flos': 6.442993023307776e+16, 'train_loss': 3.5793695690251197, 'epoch': 1.0})"
      ]
     },
     "execution_count": 16,
     "metadata": {},
     "output_type": "execute_result"
    }
   ],
   "source": [
    "trainer.train()"
   ]
  },
  {
   "cell_type": "code",
   "execution_count": 17,
   "metadata": {},
   "outputs": [
    {
     "data": {
      "text/html": [
       "\n",
       "    <div>\n",
       "      \n",
       "      <progress value='1699' max='1699' style='width:300px; height:20px; vertical-align: middle;'></progress>\n",
       "      [1699/1699 51:46]\n",
       "    </div>\n",
       "    "
      ],
      "text/plain": [
       "<IPython.core.display.HTML object>"
      ]
     },
     "metadata": {},
     "output_type": "display_data"
    },
    {
     "data": {
      "text/plain": [
       "{'eval_loss': 2.3926541805267334,\n",
       " 'eval_rouge1': 15.9686,\n",
       " 'eval_rouge2': 5.1256,\n",
       " 'eval_rougeL': 15.6403,\n",
       " 'eval_rougeLsum': 15.7116,\n",
       " 'eval_bleu': 6.1229,\n",
       " 'eval_gen_len': 85.836,\n",
       " 'eval_char_len': 298.8378,\n",
       " 'eval_runtime': 3153.3697,\n",
       " 'eval_samples_per_second': 2.154,\n",
       " 'eval_steps_per_second': 0.539,\n",
       " 'epoch': 1.0}"
      ]
     },
     "execution_count": 17,
     "metadata": {},
     "output_type": "execute_result"
    }
   ],
   "source": [
    "trainer.evaluate()"
   ]
  },
  {
   "cell_type": "code",
   "execution_count": null,
   "metadata": {},
   "outputs": [],
   "source": []
  },
  {
   "cell_type": "code",
   "execution_count": null,
   "metadata": {},
   "outputs": [],
   "source": []
  }
 ],
 "metadata": {
  "kaggle": {
   "accelerator": "nvidiaTeslaT4",
   "dataSources": [],
   "dockerImageVersionId": 30587,
   "isGpuEnabled": true,
   "isInternetEnabled": true,
   "language": "python",
   "sourceType": "notebook"
  },
  "kernelspec": {
   "display_name": "Barboskiny",
   "language": "python",
   "name": "barboskiny"
  },
  "language_info": {
   "codemirror_mode": {
    "name": "ipython",
    "version": 3
   },
   "file_extension": ".py",
   "mimetype": "text/x-python",
   "name": "python",
   "nbconvert_exporter": "python",
   "pygments_lexer": "ipython3",
   "version": "3.8.18"
  }
 },
 "nbformat": 4,
 "nbformat_minor": 4
}
